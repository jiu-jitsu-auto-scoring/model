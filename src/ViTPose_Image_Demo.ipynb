{
  "cells": [
    {
      "cell_type": "markdown",
      "id": "C-s0aW8ZM4Uh",
      "metadata": {
        "id": "C-s0aW8ZM4Uh"
      },
      "source": [
        "# jiu-jitsu-auto-scoring\n",
        "*This notebook is a **WIP**!*\n"
      ]
    },
    {
      "cell_type": "code",
      "execution_count": 5,
      "id": "6QKnm8bAOHqy",
      "metadata": {
        "colab": {
          "base_uri": "https://localhost:8080/"
        },
        "id": "6QKnm8bAOHqy",
        "outputId": "c38d1cb6-fd87-447f-90be-7d45f88c996e"
      },
      "outputs": [
        {
          "name": "stdout",
          "output_type": "stream",
          "text": [
            "fatal: destination path 'model' already exists and is not an empty directory.\n",
            "/content/model\n",
            "Already up to date.\n",
            "Already on 'main'\n",
            "Your branch is up to date with 'origin/main'.\n"
          ]
        }
      ],
      "source": [
        "# prompt: mount drive and clone the repository in the current branch, the organization is called jiu-jitsu-auto-scoring and the repository is called model\n",
        "from google.colab import drive\n",
        "\n",
        "BRANCH = \"5-try-out-vitpose\" # Write the name of the branch you're working in here\n",
        "\n",
        "!git clone -q https://github.com/jiu-jitsu-auto-scoring/model.git\n",
        "%cd /content/model\n",
        "!git pull\n",
        "!git checkout $BRANCH"
      ]
    },
    {
      "cell_type": "code",
      "execution_count": null,
      "id": "tOmDi6A5Oohe",
      "metadata": {
        "id": "tOmDi6A5Oohe"
      },
      "outputs": [],
      "source": []
    }
  ],
  "metadata": {
    "colab": {
      "provenance": []
    },
    "kernelspec": {
      "display_name": "Python 3",
      "name": "python3"
    },
    "language_info": {
      "name": "python"
    }
  },
  "nbformat": 4,
  "nbformat_minor": 5
}
