{
  "cells": [
    {
      "cell_type": "markdown",
      "source": [
        "# jiu-jitsu-auto-scoring\n",
        "*This notebook is a **WIP**!*\n"
      ],
      "metadata": {
        "id": "C-s0aW8ZM4Uh"
      },
      "id": "C-s0aW8ZM4Uh"
    },
    {
      "cell_type": "code",
      "source": [
        "# prompt: mount drive and clone the repository in the current branch, the organization is called jiu-jitsu-auto-scoring and the repository is called model\n",
        "from google.colab import drive\n",
        "\n",
        "BRANCH = \"main\" # Write the name of the branch you're working in here\n",
        "\n",
        "!git clone -q https://github.com/jiu-jitsu-auto-scoring/model.git\n",
        "%cd /content/model\n",
        "!git pull\n",
        "!git checkout $BRANCH"
      ],
      "metadata": {
        "id": "6QKnm8bAOHqy",
        "outputId": "c38d1cb6-fd87-447f-90be-7d45f88c996e",
        "colab": {
          "base_uri": "https://localhost:8080/"
        }
      },
      "id": "6QKnm8bAOHqy",
      "execution_count": 5,
      "outputs": [
        {
          "output_type": "stream",
          "name": "stdout",
          "text": [
            "fatal: destination path 'model' already exists and is not an empty directory.\n",
            "/content/model\n",
            "Already up to date.\n",
            "Already on 'main'\n",
            "Your branch is up to date with 'origin/main'.\n"
          ]
        }
      ]
    },
    {
      "cell_type": "code",
      "source": [],
      "metadata": {
        "id": "tOmDi6A5Oohe"
      },
      "id": "tOmDi6A5Oohe",
      "execution_count": null,
      "outputs": []
    }
  ],
  "metadata": {
    "colab": {
      "provenance": []
    },
    "language_info": {
      "name": "python"
    },
    "kernelspec": {
      "name": "python3",
      "display_name": "Python 3"
    }
  },
  "nbformat": 4,
  "nbformat_minor": 5
}