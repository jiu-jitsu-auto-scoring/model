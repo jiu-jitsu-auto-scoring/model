{
  "cells": [
    {
      "cell_type": "markdown",
      "id": "C-s0aW8ZM4Uh",
      "metadata": {
        "id": "C-s0aW8ZM4Uh"
      },
      "source": [
        "# jiu-jitsu-auto-scoring\n",
        "*This notebook is a **WIP**!*\n"
      ]
    },
    {
      "cell_type": "code",
      "execution_count": null,
      "id": "6QKnm8bAOHqy",
      "metadata": {
        "colab": {
          "base_uri": "https://localhost:8080/"
        },
        "id": "6QKnm8bAOHqy",
        "outputId": "3c889863-ff8c-4435-f194-96769defa72c"
      },
      "outputs": [
        {
          "output_type": "stream",
          "name": "stdout",
          "text": [
            "fatal: destination path 'model' already exists and is not an empty directory.\n",
            "/content/model\n",
            "Already up to date.\n",
            "Already on '5-try-out-vitpose'\n",
            "Your branch is up to date with 'origin/5-try-out-vitpose'.\n"
          ]
        }
      ],
      "source": [
        "# prompt: mount drive and clone the repository in the current branch, the organization is called jiu-jitsu-auto-scoring and the repository is called model\n",
        "from google.colab import drive\n",
        "\n",
        "BRANCH = \"5-try-out-vitpose\" # Write the name of the branch you're working in here\n",
        "\n",
        "!git clone -q https://github.com/jiu-jitsu-auto-scoring/model.git\n",
        "%cd /content/model\n",
        "!git pull\n",
        "!git checkout $BRANCH"
      ]
    },
    {
      "cell_type": "markdown",
      "source": [
        "#0. Imports, Requirements, etc.\n",
        "Upload the required checkpoint into that folder"
      ],
      "metadata": {
        "id": "VSH5ygNMj-dP"
      },
      "id": "VSH5ygNMj-dP"
    },
    {
      "cell_type": "code",
      "execution_count": null,
      "id": "tOmDi6A5Oohe",
      "metadata": {
        "id": "tOmDi6A5Oohe",
        "collapsed": true,
        "colab": {
          "base_uri": "https://localhost:8080/"
        },
        "outputId": "f855d9eb-820f-409c-b4b3-3d9c98938c2f"
      },
      "outputs": [
        {
          "output_type": "stream",
          "name": "stdout",
          "text": [
            "Cloning into 'ViTPose'...\n",
            "remote: Enumerating objects: 1859, done.\u001b[K\n",
            "remote: Counting objects: 100% (1041/1041), done.\u001b[K\n",
            "remote: Compressing objects: 100% (316/316), done.\u001b[K\n",
            "remote: Total 1859 (delta 794), reused 725 (delta 725), pack-reused 818 (from 1)\u001b[K\n",
            "Receiving objects: 100% (1859/1859), 10.75 MiB | 20.80 MiB/s, done.\n",
            "Resolving deltas: 100% (958/958), done.\n",
            "/content/model/ViTPose/ViTPose\n",
            "Ignoring dataclasses: markers 'python_version == \"3.6\"' don't match your environment\n",
            "Collecting poseval@ git+https://github.com/svenkreiss/poseval.git (from -r requirements/optional.txt (line 4))\n",
            "  Cloning https://github.com/svenkreiss/poseval.git to /tmp/pip-install-q6of1fj4/poseval_d35a724875da4b648b4d23667373ef10\n",
            "  Running command git clone --filter=blob:none --quiet https://github.com/svenkreiss/poseval.git /tmp/pip-install-q6of1fj4/poseval_d35a724875da4b648b4d23667373ef10\n",
            "  Resolved https://github.com/svenkreiss/poseval.git to commit 3128c5cbcf90946e5164ff438ad651e113e64613\n",
            "  Running command git submodule update --init --recursive -q\n",
            "  Preparing metadata (setup.py) ... \u001b[?25l\u001b[?25hdone\n",
            "Requirement already satisfied: numpy in /usr/local/lib/python3.11/dist-packages (from -r requirements/build.txt (line 2)) (1.26.4)\n",
            "Requirement already satisfied: torch>=1.3 in /usr/local/lib/python3.11/dist-packages (from -r requirements/build.txt (line 3)) (2.5.1+cu124)\n",
            "Requirement already satisfied: chumpy in /usr/local/lib/python3.11/dist-packages (from -r requirements/runtime.txt (line 1)) (0.70)\n",
            "Requirement already satisfied: json_tricks in /usr/local/lib/python3.11/dist-packages (from -r requirements/runtime.txt (line 3)) (3.17.3)\n",
            "Requirement already satisfied: matplotlib in /usr/local/lib/python3.11/dist-packages (from -r requirements/runtime.txt (line 4)) (3.10.0)\n",
            "Requirement already satisfied: munkres in /usr/local/lib/python3.11/dist-packages (from -r requirements/runtime.txt (line 5)) (1.1.4)\n",
            "Requirement already satisfied: opencv-python in /usr/local/lib/python3.11/dist-packages (from -r requirements/runtime.txt (line 7)) (4.11.0.86)\n",
            "Requirement already satisfied: pillow in /usr/local/lib/python3.11/dist-packages (from -r requirements/runtime.txt (line 8)) (11.1.0)\n",
            "Requirement already satisfied: scipy in /usr/local/lib/python3.11/dist-packages (from -r requirements/runtime.txt (line 9)) (1.13.1)\n",
            "Requirement already satisfied: torchvision in /usr/local/lib/python3.11/dist-packages (from -r requirements/runtime.txt (line 10)) (0.20.1+cu124)\n",
            "Requirement already satisfied: xtcocotools>=1.8 in /usr/local/lib/python3.11/dist-packages (from -r requirements/runtime.txt (line 11)) (1.14.3)\n",
            "Requirement already satisfied: coverage in /usr/local/lib/python3.11/dist-packages (from -r requirements/tests.txt (line 1)) (7.6.12)\n",
            "Requirement already satisfied: flake8 in /usr/local/lib/python3.11/dist-packages (from -r requirements/tests.txt (line 2)) (7.1.1)\n",
            "Requirement already satisfied: interrogate in /usr/local/lib/python3.11/dist-packages (from -r requirements/tests.txt (line 3)) (1.7.0)\n",
            "Requirement already satisfied: isort==4.3.21 in /usr/local/lib/python3.11/dist-packages (from -r requirements/tests.txt (line 4)) (4.3.21)\n",
            "Requirement already satisfied: pytest in /usr/local/lib/python3.11/dist-packages (from -r requirements/tests.txt (line 5)) (8.3.4)\n",
            "Requirement already satisfied: pytest-runner in /usr/local/lib/python3.11/dist-packages (from -r requirements/tests.txt (line 6)) (6.0.1)\n",
            "Requirement already satisfied: smplx>=0.1.28 in /usr/local/lib/python3.11/dist-packages (from -r requirements/tests.txt (line 7)) (0.1.28)\n",
            "Requirement already satisfied: xdoctest>=0.10.0 in /usr/local/lib/python3.11/dist-packages (from -r requirements/tests.txt (line 8)) (1.2.0)\n",
            "Requirement already satisfied: yapf in /usr/local/lib/python3.11/dist-packages (from -r requirements/tests.txt (line 9)) (0.43.0)\n",
            "Requirement already satisfied: albumentations>=0.3.2 in /usr/local/lib/python3.11/dist-packages (from -r requirements/optional.txt (line 1)) (2.0.3)\n",
            "Requirement already satisfied: onnx in /usr/local/lib/python3.11/dist-packages (from -r requirements/optional.txt (line 2)) (1.17.0)\n",
            "Requirement already satisfied: onnxruntime in /usr/local/lib/python3.11/dist-packages (from -r requirements/optional.txt (line 3)) (1.20.1)\n",
            "Requirement already satisfied: pyrender in /usr/local/lib/python3.11/dist-packages (from -r requirements/optional.txt (line 5)) (0.1.45)\n",
            "Requirement already satisfied: requests in /usr/local/lib/python3.11/dist-packages (from -r requirements/optional.txt (line 6)) (2.32.3)\n",
            "Requirement already satisfied: trimesh in /usr/local/lib/python3.11/dist-packages (from -r requirements/optional.txt (line 8)) (4.6.1)\n",
            "Requirement already satisfied: filelock in /usr/local/lib/python3.11/dist-packages (from torch>=1.3->-r requirements/build.txt (line 3)) (3.17.0)\n",
            "Requirement already satisfied: typing-extensions>=4.8.0 in /usr/local/lib/python3.11/dist-packages (from torch>=1.3->-r requirements/build.txt (line 3)) (4.12.2)\n",
            "Requirement already satisfied: networkx in /usr/local/lib/python3.11/dist-packages (from torch>=1.3->-r requirements/build.txt (line 3)) (3.4.2)\n",
            "Requirement already satisfied: jinja2 in /usr/local/lib/python3.11/dist-packages (from torch>=1.3->-r requirements/build.txt (line 3)) (3.1.5)\n",
            "Requirement already satisfied: fsspec in /usr/local/lib/python3.11/dist-packages (from torch>=1.3->-r requirements/build.txt (line 3)) (2024.10.0)\n",
            "Requirement already satisfied: nvidia-cuda-nvrtc-cu12==12.4.127 in /usr/local/lib/python3.11/dist-packages (from torch>=1.3->-r requirements/build.txt (line 3)) (12.4.127)\n",
            "Requirement already satisfied: nvidia-cuda-runtime-cu12==12.4.127 in /usr/local/lib/python3.11/dist-packages (from torch>=1.3->-r requirements/build.txt (line 3)) (12.4.127)\n",
            "Requirement already satisfied: nvidia-cuda-cupti-cu12==12.4.127 in /usr/local/lib/python3.11/dist-packages (from torch>=1.3->-r requirements/build.txt (line 3)) (12.4.127)\n",
            "Requirement already satisfied: nvidia-cudnn-cu12==9.1.0.70 in /usr/local/lib/python3.11/dist-packages (from torch>=1.3->-r requirements/build.txt (line 3)) (9.1.0.70)\n",
            "Requirement already satisfied: nvidia-cublas-cu12==12.4.5.8 in /usr/local/lib/python3.11/dist-packages (from torch>=1.3->-r requirements/build.txt (line 3)) (12.4.5.8)\n",
            "Requirement already satisfied: nvidia-cufft-cu12==11.2.1.3 in /usr/local/lib/python3.11/dist-packages (from torch>=1.3->-r requirements/build.txt (line 3)) (11.2.1.3)\n",
            "Requirement already satisfied: nvidia-curand-cu12==10.3.5.147 in /usr/local/lib/python3.11/dist-packages (from torch>=1.3->-r requirements/build.txt (line 3)) (10.3.5.147)\n",
            "Requirement already satisfied: nvidia-cusolver-cu12==11.6.1.9 in /usr/local/lib/python3.11/dist-packages (from torch>=1.3->-r requirements/build.txt (line 3)) (11.6.1.9)\n",
            "Requirement already satisfied: nvidia-cusparse-cu12==12.3.1.170 in /usr/local/lib/python3.11/dist-packages (from torch>=1.3->-r requirements/build.txt (line 3)) (12.3.1.170)\n",
            "Requirement already satisfied: nvidia-nccl-cu12==2.21.5 in /usr/local/lib/python3.11/dist-packages (from torch>=1.3->-r requirements/build.txt (line 3)) (2.21.5)\n",
            "Requirement already satisfied: nvidia-nvtx-cu12==12.4.127 in /usr/local/lib/python3.11/dist-packages (from torch>=1.3->-r requirements/build.txt (line 3)) (12.4.127)\n",
            "Requirement already satisfied: nvidia-nvjitlink-cu12==12.4.127 in /usr/local/lib/python3.11/dist-packages (from torch>=1.3->-r requirements/build.txt (line 3)) (12.4.127)\n",
            "Requirement already satisfied: triton==3.1.0 in /usr/local/lib/python3.11/dist-packages (from torch>=1.3->-r requirements/build.txt (line 3)) (3.1.0)\n",
            "Requirement already satisfied: sympy==1.13.1 in /usr/local/lib/python3.11/dist-packages (from torch>=1.3->-r requirements/build.txt (line 3)) (1.13.1)\n",
            "Requirement already satisfied: mpmath<1.4,>=1.1.0 in /usr/local/lib/python3.11/dist-packages (from sympy==1.13.1->torch>=1.3->-r requirements/build.txt (line 3)) (1.3.0)\n",
            "Requirement already satisfied: six>=1.11.0 in /usr/local/lib/python3.11/dist-packages (from chumpy->-r requirements/runtime.txt (line 1)) (1.17.0)\n",
            "Requirement already satisfied: contourpy>=1.0.1 in /usr/local/lib/python3.11/dist-packages (from matplotlib->-r requirements/runtime.txt (line 4)) (1.3.1)\n",
            "Requirement already satisfied: cycler>=0.10 in /usr/local/lib/python3.11/dist-packages (from matplotlib->-r requirements/runtime.txt (line 4)) (0.12.1)\n",
            "Requirement already satisfied: fonttools>=4.22.0 in /usr/local/lib/python3.11/dist-packages (from matplotlib->-r requirements/runtime.txt (line 4)) (4.55.8)\n",
            "Requirement already satisfied: kiwisolver>=1.3.1 in /usr/local/lib/python3.11/dist-packages (from matplotlib->-r requirements/runtime.txt (line 4)) (1.4.8)\n",
            "Requirement already satisfied: packaging>=20.0 in /usr/local/lib/python3.11/dist-packages (from matplotlib->-r requirements/runtime.txt (line 4)) (24.2)\n",
            "Requirement already satisfied: pyparsing>=2.3.1 in /usr/local/lib/python3.11/dist-packages (from matplotlib->-r requirements/runtime.txt (line 4)) (3.2.1)\n",
            "Requirement already satisfied: python-dateutil>=2.7 in /usr/local/lib/python3.11/dist-packages (from matplotlib->-r requirements/runtime.txt (line 4)) (2.8.2)\n",
            "Requirement already satisfied: setuptools>=18.0 in /usr/local/lib/python3.11/dist-packages (from xtcocotools>=1.8->-r requirements/runtime.txt (line 11)) (75.1.0)\n",
            "Requirement already satisfied: cython>=0.27.3 in /usr/local/lib/python3.11/dist-packages (from xtcocotools>=1.8->-r requirements/runtime.txt (line 11)) (3.0.11)\n",
            "Requirement already satisfied: mccabe<0.8.0,>=0.7.0 in /usr/local/lib/python3.11/dist-packages (from flake8->-r requirements/tests.txt (line 2)) (0.7.0)\n",
            "Requirement already satisfied: pycodestyle<2.13.0,>=2.12.0 in /usr/local/lib/python3.11/dist-packages (from flake8->-r requirements/tests.txt (line 2)) (2.12.1)\n",
            "Requirement already satisfied: pyflakes<3.3.0,>=3.2.0 in /usr/local/lib/python3.11/dist-packages (from flake8->-r requirements/tests.txt (line 2)) (3.2.0)\n",
            "Requirement already satisfied: attrs in /usr/local/lib/python3.11/dist-packages (from interrogate->-r requirements/tests.txt (line 3)) (25.1.0)\n",
            "Requirement already satisfied: click>=7.1 in /usr/local/lib/python3.11/dist-packages (from interrogate->-r requirements/tests.txt (line 3)) (8.1.8)\n",
            "Requirement already satisfied: colorama in /usr/local/lib/python3.11/dist-packages (from interrogate->-r requirements/tests.txt (line 3)) (0.4.6)\n",
            "Requirement already satisfied: py in /usr/local/lib/python3.11/dist-packages (from interrogate->-r requirements/tests.txt (line 3)) (1.11.0)\n",
            "Requirement already satisfied: tabulate in /usr/local/lib/python3.11/dist-packages (from interrogate->-r requirements/tests.txt (line 3)) (0.9.0)\n",
            "Requirement already satisfied: iniconfig in /usr/local/lib/python3.11/dist-packages (from pytest->-r requirements/tests.txt (line 5)) (2.0.0)\n",
            "Requirement already satisfied: pluggy<2,>=1.5 in /usr/local/lib/python3.11/dist-packages (from pytest->-r requirements/tests.txt (line 5)) (1.5.0)\n",
            "Requirement already satisfied: platformdirs>=3.5.1 in /usr/local/lib/python3.11/dist-packages (from yapf->-r requirements/tests.txt (line 9)) (4.3.6)\n",
            "Requirement already satisfied: PyYAML in /usr/local/lib/python3.11/dist-packages (from albumentations>=0.3.2->-r requirements/optional.txt (line 1)) (6.0.2)\n",
            "Requirement already satisfied: pydantic>=2.9.2 in /usr/local/lib/python3.11/dist-packages (from albumentations>=0.3.2->-r requirements/optional.txt (line 1)) (2.10.6)\n",
            "Requirement already satisfied: albucore==0.0.23 in /usr/local/lib/python3.11/dist-packages (from albumentations>=0.3.2->-r requirements/optional.txt (line 1)) (0.0.23)\n",
            "Requirement already satisfied: opencv-python-headless>=4.9.0.80 in /usr/local/lib/python3.11/dist-packages (from albumentations>=0.3.2->-r requirements/optional.txt (line 1)) (4.11.0.86)\n",
            "Requirement already satisfied: stringzilla>=3.10.4 in /usr/local/lib/python3.11/dist-packages (from albucore==0.0.23->albumentations>=0.3.2->-r requirements/optional.txt (line 1)) (3.11.3)\n",
            "Requirement already satisfied: simsimd>=5.9.2 in /usr/local/lib/python3.11/dist-packages (from albucore==0.0.23->albumentations>=0.3.2->-r requirements/optional.txt (line 1)) (6.2.1)\n",
            "Requirement already satisfied: protobuf>=3.20.2 in /usr/local/lib/python3.11/dist-packages (from onnx->-r requirements/optional.txt (line 2)) (4.25.6)\n",
            "Requirement already satisfied: coloredlogs in /usr/local/lib/python3.11/dist-packages (from onnxruntime->-r requirements/optional.txt (line 3)) (15.0.1)\n",
            "Requirement already satisfied: flatbuffers in /usr/local/lib/python3.11/dist-packages (from onnxruntime->-r requirements/optional.txt (line 3)) (25.1.24)\n",
            "Requirement already satisfied: motmetrics>=1.2 in /usr/local/lib/python3.11/dist-packages (from poseval@ git+https://github.com/svenkreiss/poseval.git->-r requirements/optional.txt (line 4)) (1.4.0)\n",
            "Requirement already satisfied: shapely in /usr/local/lib/python3.11/dist-packages (from poseval@ git+https://github.com/svenkreiss/poseval.git->-r requirements/optional.txt (line 4)) (2.0.7)\n",
            "Requirement already satisfied: tqdm in /usr/local/lib/python3.11/dist-packages (from poseval@ git+https://github.com/svenkreiss/poseval.git->-r requirements/optional.txt (line 4)) (4.67.1)\n",
            "Requirement already satisfied: freetype-py in /usr/local/lib/python3.11/dist-packages (from pyrender->-r requirements/optional.txt (line 5)) (2.5.1)\n",
            "Requirement already satisfied: imageio in /usr/local/lib/python3.11/dist-packages (from pyrender->-r requirements/optional.txt (line 5)) (2.37.0)\n",
            "Requirement already satisfied: pyglet>=1.4.10 in /usr/local/lib/python3.11/dist-packages (from pyrender->-r requirements/optional.txt (line 5)) (2.1.2)\n",
            "Requirement already satisfied: PyOpenGL==3.1.0 in /usr/local/lib/python3.11/dist-packages (from pyrender->-r requirements/optional.txt (line 5)) (3.1.0)\n",
            "Requirement already satisfied: charset-normalizer<4,>=2 in /usr/local/lib/python3.11/dist-packages (from requests->-r requirements/optional.txt (line 6)) (3.4.1)\n",
            "Requirement already satisfied: idna<4,>=2.5 in /usr/local/lib/python3.11/dist-packages (from requests->-r requirements/optional.txt (line 6)) (3.10)\n",
            "Requirement already satisfied: urllib3<3,>=1.21.1 in /usr/local/lib/python3.11/dist-packages (from requests->-r requirements/optional.txt (line 6)) (2.3.0)\n",
            "Requirement already satisfied: certifi>=2017.4.17 in /usr/local/lib/python3.11/dist-packages (from requests->-r requirements/optional.txt (line 6)) (2025.1.31)\n",
            "Requirement already satisfied: pandas>=0.23.1 in /usr/local/lib/python3.11/dist-packages (from motmetrics>=1.2->poseval@ git+https://github.com/svenkreiss/poseval.git->-r requirements/optional.txt (line 4)) (2.2.2)\n",
            "Requirement already satisfied: xmltodict>=0.12.0 in /usr/local/lib/python3.11/dist-packages (from motmetrics>=1.2->poseval@ git+https://github.com/svenkreiss/poseval.git->-r requirements/optional.txt (line 4)) (0.14.2)\n",
            "Requirement already satisfied: annotated-types>=0.6.0 in /usr/local/lib/python3.11/dist-packages (from pydantic>=2.9.2->albumentations>=0.3.2->-r requirements/optional.txt (line 1)) (0.7.0)\n",
            "Requirement already satisfied: pydantic-core==2.27.2 in /usr/local/lib/python3.11/dist-packages (from pydantic>=2.9.2->albumentations>=0.3.2->-r requirements/optional.txt (line 1)) (2.27.2)\n",
            "Requirement already satisfied: humanfriendly>=9.1 in /usr/local/lib/python3.11/dist-packages (from coloredlogs->onnxruntime->-r requirements/optional.txt (line 3)) (10.0)\n",
            "Requirement already satisfied: MarkupSafe>=2.0 in /usr/local/lib/python3.11/dist-packages (from jinja2->torch>=1.3->-r requirements/build.txt (line 3)) (3.0.2)\n",
            "Requirement already satisfied: pytz>=2020.1 in /usr/local/lib/python3.11/dist-packages (from pandas>=0.23.1->motmetrics>=1.2->poseval@ git+https://github.com/svenkreiss/poseval.git->-r requirements/optional.txt (line 4)) (2025.1)\n",
            "Requirement already satisfied: tzdata>=2022.7 in /usr/local/lib/python3.11/dist-packages (from pandas>=0.23.1->motmetrics>=1.2->poseval@ git+https://github.com/svenkreiss/poseval.git->-r requirements/optional.txt (line 4)) (2025.1)\n",
            "Obtaining file:///content/model/ViTPose/ViTPose\n",
            "  Preparing metadata (setup.py) ... \u001b[?25l\u001b[?25hdone\n",
            "Requirement already satisfied: chumpy in /usr/local/lib/python3.11/dist-packages (from mmpose==0.24.0) (0.70)\n",
            "Requirement already satisfied: json_tricks in /usr/local/lib/python3.11/dist-packages (from mmpose==0.24.0) (3.17.3)\n",
            "Requirement already satisfied: matplotlib in /usr/local/lib/python3.11/dist-packages (from mmpose==0.24.0) (3.10.0)\n",
            "Requirement already satisfied: munkres in /usr/local/lib/python3.11/dist-packages (from mmpose==0.24.0) (1.1.4)\n",
            "Requirement already satisfied: numpy in /usr/local/lib/python3.11/dist-packages (from mmpose==0.24.0) (1.26.4)\n",
            "Requirement already satisfied: opencv-python in /usr/local/lib/python3.11/dist-packages (from mmpose==0.24.0) (4.11.0.86)\n",
            "Requirement already satisfied: pillow in /usr/local/lib/python3.11/dist-packages (from mmpose==0.24.0) (11.1.0)\n",
            "Requirement already satisfied: scipy in /usr/local/lib/python3.11/dist-packages (from mmpose==0.24.0) (1.13.1)\n",
            "Requirement already satisfied: torchvision in /usr/local/lib/python3.11/dist-packages (from mmpose==0.24.0) (0.20.1+cu124)\n",
            "Requirement already satisfied: xtcocotools>=1.8 in /usr/local/lib/python3.11/dist-packages (from mmpose==0.24.0) (1.14.3)\n",
            "Requirement already satisfied: setuptools>=18.0 in /usr/local/lib/python3.11/dist-packages (from xtcocotools>=1.8->mmpose==0.24.0) (75.1.0)\n",
            "Requirement already satisfied: cython>=0.27.3 in /usr/local/lib/python3.11/dist-packages (from xtcocotools>=1.8->mmpose==0.24.0) (3.0.11)\n",
            "Requirement already satisfied: contourpy>=1.0.1 in /usr/local/lib/python3.11/dist-packages (from matplotlib->mmpose==0.24.0) (1.3.1)\n",
            "Requirement already satisfied: cycler>=0.10 in /usr/local/lib/python3.11/dist-packages (from matplotlib->mmpose==0.24.0) (0.12.1)\n",
            "Requirement already satisfied: fonttools>=4.22.0 in /usr/local/lib/python3.11/dist-packages (from matplotlib->mmpose==0.24.0) (4.55.8)\n",
            "Requirement already satisfied: kiwisolver>=1.3.1 in /usr/local/lib/python3.11/dist-packages (from matplotlib->mmpose==0.24.0) (1.4.8)\n",
            "Requirement already satisfied: packaging>=20.0 in /usr/local/lib/python3.11/dist-packages (from matplotlib->mmpose==0.24.0) (24.2)\n",
            "Requirement already satisfied: pyparsing>=2.3.1 in /usr/local/lib/python3.11/dist-packages (from matplotlib->mmpose==0.24.0) (3.2.1)\n",
            "Requirement already satisfied: python-dateutil>=2.7 in /usr/local/lib/python3.11/dist-packages (from matplotlib->mmpose==0.24.0) (2.8.2)\n",
            "Requirement already satisfied: six>=1.11.0 in /usr/local/lib/python3.11/dist-packages (from chumpy->mmpose==0.24.0) (1.17.0)\n",
            "Requirement already satisfied: torch==2.5.1 in /usr/local/lib/python3.11/dist-packages (from torchvision->mmpose==0.24.0) (2.5.1+cu124)\n",
            "Requirement already satisfied: filelock in /usr/local/lib/python3.11/dist-packages (from torch==2.5.1->torchvision->mmpose==0.24.0) (3.17.0)\n",
            "Requirement already satisfied: typing-extensions>=4.8.0 in /usr/local/lib/python3.11/dist-packages (from torch==2.5.1->torchvision->mmpose==0.24.0) (4.12.2)\n",
            "Requirement already satisfied: networkx in /usr/local/lib/python3.11/dist-packages (from torch==2.5.1->torchvision->mmpose==0.24.0) (3.4.2)\n",
            "Requirement already satisfied: jinja2 in /usr/local/lib/python3.11/dist-packages (from torch==2.5.1->torchvision->mmpose==0.24.0) (3.1.5)\n",
            "Requirement already satisfied: fsspec in /usr/local/lib/python3.11/dist-packages (from torch==2.5.1->torchvision->mmpose==0.24.0) (2024.10.0)\n",
            "Requirement already satisfied: nvidia-cuda-nvrtc-cu12==12.4.127 in /usr/local/lib/python3.11/dist-packages (from torch==2.5.1->torchvision->mmpose==0.24.0) (12.4.127)\n",
            "Requirement already satisfied: nvidia-cuda-runtime-cu12==12.4.127 in /usr/local/lib/python3.11/dist-packages (from torch==2.5.1->torchvision->mmpose==0.24.0) (12.4.127)\n",
            "Requirement already satisfied: nvidia-cuda-cupti-cu12==12.4.127 in /usr/local/lib/python3.11/dist-packages (from torch==2.5.1->torchvision->mmpose==0.24.0) (12.4.127)\n",
            "Requirement already satisfied: nvidia-cudnn-cu12==9.1.0.70 in /usr/local/lib/python3.11/dist-packages (from torch==2.5.1->torchvision->mmpose==0.24.0) (9.1.0.70)\n",
            "Requirement already satisfied: nvidia-cublas-cu12==12.4.5.8 in /usr/local/lib/python3.11/dist-packages (from torch==2.5.1->torchvision->mmpose==0.24.0) (12.4.5.8)\n",
            "Requirement already satisfied: nvidia-cufft-cu12==11.2.1.3 in /usr/local/lib/python3.11/dist-packages (from torch==2.5.1->torchvision->mmpose==0.24.0) (11.2.1.3)\n",
            "Requirement already satisfied: nvidia-curand-cu12==10.3.5.147 in /usr/local/lib/python3.11/dist-packages (from torch==2.5.1->torchvision->mmpose==0.24.0) (10.3.5.147)\n",
            "Requirement already satisfied: nvidia-cusolver-cu12==11.6.1.9 in /usr/local/lib/python3.11/dist-packages (from torch==2.5.1->torchvision->mmpose==0.24.0) (11.6.1.9)\n",
            "Requirement already satisfied: nvidia-cusparse-cu12==12.3.1.170 in /usr/local/lib/python3.11/dist-packages (from torch==2.5.1->torchvision->mmpose==0.24.0) (12.3.1.170)\n",
            "Requirement already satisfied: nvidia-nccl-cu12==2.21.5 in /usr/local/lib/python3.11/dist-packages (from torch==2.5.1->torchvision->mmpose==0.24.0) (2.21.5)\n",
            "Requirement already satisfied: nvidia-nvtx-cu12==12.4.127 in /usr/local/lib/python3.11/dist-packages (from torch==2.5.1->torchvision->mmpose==0.24.0) (12.4.127)\n",
            "Requirement already satisfied: nvidia-nvjitlink-cu12==12.4.127 in /usr/local/lib/python3.11/dist-packages (from torch==2.5.1->torchvision->mmpose==0.24.0) (12.4.127)\n",
            "Requirement already satisfied: triton==3.1.0 in /usr/local/lib/python3.11/dist-packages (from torch==2.5.1->torchvision->mmpose==0.24.0) (3.1.0)\n",
            "Requirement already satisfied: sympy==1.13.1 in /usr/local/lib/python3.11/dist-packages (from torch==2.5.1->torchvision->mmpose==0.24.0) (1.13.1)\n",
            "Requirement already satisfied: mpmath<1.4,>=1.1.0 in /usr/local/lib/python3.11/dist-packages (from sympy==1.13.1->torch==2.5.1->torchvision->mmpose==0.24.0) (1.3.0)\n",
            "Requirement already satisfied: MarkupSafe>=2.0 in /usr/local/lib/python3.11/dist-packages (from jinja2->torch==2.5.1->torchvision->mmpose==0.24.0) (3.0.2)\n",
            "Installing collected packages: mmpose\n",
            "  Attempting uninstall: mmpose\n",
            "    Found existing installation: mmpose 0.24.0\n",
            "    Uninstalling mmpose-0.24.0:\n",
            "      Successfully uninstalled mmpose-0.24.0\n",
            "  Running setup.py develop for mmpose\n",
            "Successfully installed mmpose-0.24.0\n",
            "Requirement already satisfied: supervision in /usr/local/lib/python3.11/dist-packages (0.25.1)\n",
            "Requirement already satisfied: contourpy>=1.0.7 in /usr/local/lib/python3.11/dist-packages (from supervision) (1.3.1)\n",
            "Requirement already satisfied: defusedxml<0.8.0,>=0.7.1 in /usr/local/lib/python3.11/dist-packages (from supervision) (0.7.1)\n",
            "Requirement already satisfied: matplotlib>=3.6.0 in /usr/local/lib/python3.11/dist-packages (from supervision) (3.10.0)\n",
            "Requirement already satisfied: numpy>=1.21.2 in /usr/local/lib/python3.11/dist-packages (from supervision) (1.26.4)\n",
            "Requirement already satisfied: opencv-python>=4.5.5.64 in /usr/local/lib/python3.11/dist-packages (from supervision) (4.11.0.86)\n",
            "Requirement already satisfied: pillow>=9.4 in /usr/local/lib/python3.11/dist-packages (from supervision) (11.1.0)\n",
            "Requirement already satisfied: pyyaml>=5.3 in /usr/local/lib/python3.11/dist-packages (from supervision) (6.0.2)\n",
            "Requirement already satisfied: requests>=2.26.0 in /usr/local/lib/python3.11/dist-packages (from supervision) (2.32.3)\n",
            "Requirement already satisfied: scipy<2.0.0,>=1.10.0 in /usr/local/lib/python3.11/dist-packages (from supervision) (1.13.1)\n",
            "Requirement already satisfied: tqdm>=4.62.3 in /usr/local/lib/python3.11/dist-packages (from supervision) (4.67.1)\n",
            "Requirement already satisfied: cycler>=0.10 in /usr/local/lib/python3.11/dist-packages (from matplotlib>=3.6.0->supervision) (0.12.1)\n",
            "Requirement already satisfied: fonttools>=4.22.0 in /usr/local/lib/python3.11/dist-packages (from matplotlib>=3.6.0->supervision) (4.55.8)\n",
            "Requirement already satisfied: kiwisolver>=1.3.1 in /usr/local/lib/python3.11/dist-packages (from matplotlib>=3.6.0->supervision) (1.4.8)\n",
            "Requirement already satisfied: packaging>=20.0 in /usr/local/lib/python3.11/dist-packages (from matplotlib>=3.6.0->supervision) (24.2)\n",
            "Requirement already satisfied: pyparsing>=2.3.1 in /usr/local/lib/python3.11/dist-packages (from matplotlib>=3.6.0->supervision) (3.2.1)\n",
            "Requirement already satisfied: python-dateutil>=2.7 in /usr/local/lib/python3.11/dist-packages (from matplotlib>=3.6.0->supervision) (2.8.2)\n",
            "Requirement already satisfied: charset-normalizer<4,>=2 in /usr/local/lib/python3.11/dist-packages (from requests>=2.26.0->supervision) (3.4.1)\n",
            "Requirement already satisfied: idna<4,>=2.5 in /usr/local/lib/python3.11/dist-packages (from requests>=2.26.0->supervision) (3.10)\n",
            "Requirement already satisfied: urllib3<3,>=1.21.1 in /usr/local/lib/python3.11/dist-packages (from requests>=2.26.0->supervision) (2.3.0)\n",
            "Requirement already satisfied: certifi>=2017.4.17 in /usr/local/lib/python3.11/dist-packages (from requests>=2.26.0->supervision) (2025.1.31)\n",
            "Requirement already satisfied: six>=1.5 in /usr/local/lib/python3.11/dist-packages (from python-dateutil>=2.7->matplotlib>=3.6.0->supervision) (1.17.0)\n"
          ]
        }
      ],
      "source": [
        "!git clone https://github.com/ViTAE-Transformer/ViTPose.git\n",
        "%cd ViTPose\n",
        "\n",
        "!pip install -r requirements.txt\n",
        "!pip install -e .\n",
        "\n",
        "!pip install supervision # for visualizing keypoints\n",
        "\n",
        "# Import drive for custom images\n",
        "from google.colab import drive\n",
        "drive.mount('/content/drive')\n"
      ]
    },
    {
      "cell_type": "code",
      "source": [
        "import torch\n",
        "import requests\n",
        "import numpy as np\n",
        "\n",
        "from PIL import Image\n",
        "\n",
        "from transformers import AutoProcessor, RTDetrForObjectDetection, VitPoseForPoseEstimation\n",
        "from transformers import AutoImageProcessor, DeformableDetrForObjectDetection\n",
        "import torch\n",
        "from PIL import Image\n",
        "import requests"
      ],
      "metadata": {
        "id": "wb4q_4mN1hJW"
      },
      "id": "wb4q_4mN1hJW",
      "execution_count": null,
      "outputs": []
    },
    {
      "cell_type": "code",
      "source": [
        "device = \"cuda\" if torch.cuda.is_available() else \"cpu\""
      ],
      "metadata": {
        "id": "MLFk-lir1oVs"
      },
      "id": "MLFk-lir1oVs",
      "execution_count": null,
      "outputs": []
    },
    {
      "cell_type": "code",
      "source": [
        "!git clone https://github.com/huggingface/transformers\n",
        "!cd transformers\n",
        "!pip install ."
      ],
      "metadata": {
        "id": "r-6mloQwTeLS",
        "outputId": "924c7527-a85d-42db-d2a6-99a4a5320619",
        "colab": {
          "base_uri": "https://localhost:8080/"
        }
      },
      "id": "r-6mloQwTeLS",
      "execution_count": 2,
      "outputs": [
        {
          "output_type": "stream",
          "name": "stdout",
          "text": [
            "Name: transformers\n",
            "Version: 4.48.2\n",
            "Summary: State-of-the-art Machine Learning for JAX, PyTorch and TensorFlow\n",
            "Home-page: https://github.com/huggingface/transformers\n",
            "Author: The Hugging Face team (past and future) with the help of all our contributors (https://github.com/huggingface/transformers/graphs/contributors)\n",
            "Author-email: transformers@huggingface.co\n",
            "License: Apache 2.0 License\n",
            "Location: /usr/local/lib/python3.11/dist-packages\n",
            "Requires: filelock, huggingface-hub, numpy, packaging, pyyaml, regex, requests, safetensors, tokenizers, tqdm\n",
            "Required-by: peft, sentence-transformers\n"
          ]
        }
      ]
    }
  ],
  "metadata": {
    "colab": {
      "provenance": []
    },
    "kernelspec": {
      "display_name": "Python 3",
      "name": "python3"
    },
    "language_info": {
      "name": "python"
    }
  },
  "nbformat": 4,
  "nbformat_minor": 5
}